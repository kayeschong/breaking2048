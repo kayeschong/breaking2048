{
 "cells": [
  {
   "cell_type": "code",
   "execution_count": 1,
   "metadata": {},
   "outputs": [],
   "source": [
    "from games import Env2048\n",
    "\n",
    "import time\n",
    "import random\n",
    "import gym\n",
    "import numpy as np\n",
    "import matplotlib.pyplot as plt\n",
    "from collections import namedtuple, deque\n",
    "\n",
    "import torch\n",
    "import torch.nn as nn\n",
    "import torch.optim as optim\n",
    "import torch.nn.functional as F\n",
    "from IPython.display import clear_output"
   ]
  },
  {
   "cell_type": "markdown",
   "metadata": {},
   "source": [
    "Initial policy -> Random\n",
    "Evaluate/update action value function using each action in initial policy\n",
    "\n",
    "Argmax over action-values to get updated policy\n",
    "Evaluate/update action value function with next policy\n"
   ]
  },
  {
   "cell_type": "markdown",
   "metadata": {},
   "source": [
    "Value iteration until convergence if model is known. Don't need to know intermediate policies\n",
    "Async value iteration avoids having 2 copies of state space"
   ]
  },
  {
   "cell_type": "code",
   "execution_count": 2,
   "metadata": {},
   "outputs": [],
   "source": [
    "class DQN(nn.Module):\n",
    "    def __init__(self, height, width, n_actions):\n",
    "        super().__init__()\n",
    "        \n",
    "        self.fc1 = nn.Linear(in_features=height * width, out_features=64)\n",
    "        self.fc2 = nn.Linear(in_features=64, out_features=128)\n",
    "        self.out = nn.Linear(in_features=128, out_features=n_actions)\n",
    "        \n",
    "    def forward(self, t):\n",
    "        t = t.flatten(start_dim=1)\n",
    "        t = F.relu(self.fc1(t))\n",
    "        t = F.relu(self.fc2(t))\n",
    "        t = self.out(t)\n",
    "        # TODO: output > 0/ as prob\n",
    "        return t\n",
    "\n",
    "# TODO: CNN feature mappings\n",
    "class DQCNN(nn.Module):\n",
    "\n",
    "    def __init__(self, height, width, n_actions):\n",
    "        super(DQN, self).__init__()\n",
    "        self.conv1 = nn.Conv2d(1, 16, kernel_size=3, stride=1, padding=2)\n",
    "        self.bn1 = nn.BatchNorm2d(16)\n",
    "        self.conv2 = nn.Conv2d(16, 32, kernel_size=3, stride=1, padding=2)\n",
    "        self.bn2 = nn.BatchNorm2d(32)\n",
    "        self.conv3 = nn.Conv2d(32, 64, kernel_size=3, stride=1, padding=2)\n",
    "        self.bn3 = nn.BatchNorm2d(64)\n",
    "        \n",
    "        self.out = nn.Linear(64 * height * width, n_actions)\n",
    "\n",
    "    def forward(self, x):\n",
    "        x = F.relu(self.bn1(self.conv1(x)))\n",
    "        x = F.relu(self.bn2(self.conv2(x)))\n",
    "        x = F.relu(self.bn3(self.conv3(x)))\n",
    "        x = self.out(x.view(x.size(0), -1)) # flatten\n",
    "        return x\n",
    "\n",
    "\n",
    "Experience = namedtuple(\n",
    "    'Experience',\n",
    "    ('state', 'action', 'next_state', 'reward', 'done')\n",
    ")\n",
    "\n",
    "class ReplayMemory():\n",
    "    def __init__(self, capacity):\n",
    "        self.capacity = capacity\n",
    "        self.memory = []\n",
    "        self.push_count = 0\n",
    "    \n",
    "    def append(self, experience):\n",
    "        if len(self.memory) < self.capacity:\n",
    "            self.memory.append(experience)\n",
    "        else:\n",
    "            self.memory[self.push_count % self.capacity] = experience\n",
    "        self.push_count += 1\n",
    "\n",
    "    def sample(self, batch_size):\n",
    "        return random.sample(self.memory, batch_size)\n",
    "\n",
    "    def __len__(self):\n",
    "        return len(self.memory)\n",
    "    \n",
    "#     def __repr__(self):"
   ]
  },
  {
   "cell_type": "code",
   "execution_count": 3,
   "metadata": {},
   "outputs": [],
   "source": [
    "# TODO: Agent interface to interact with GUI\n",
    "class DQNAgent():\n",
    "    def __init__(self, weights, hyperparams):\n",
    "        pass\n",
    "    \n",
    "    def train(self):\n",
    "        with torch.no_grad():\n",
    "            pass\n",
    "        pass\n",
    "    \n",
    "    def get_move(self) -> int:\n",
    "        # DQN pred action-value\n",
    "        # filter to valid moves\n",
    "        # DQN best action-value\n",
    "        pass\n",
    "# Add to class as helper\n",
    "action_map = {\n",
    "    0: 'LEFT',\n",
    "    1: 'UP',\n",
    "    2: 'RIGHT',\n",
    "    3: 'DOWN',\n",
    "}"
   ]
  },
  {
   "cell_type": "code",
   "execution_count": 4,
   "metadata": {},
   "outputs": [],
   "source": [
    "def unpack_batch(experiences):\n",
    "    # Convert batch of Experiences to Experience of batches\n",
    "    batch = Experience(*zip(*experiences))\n",
    "\n",
    "    batch_states = torch.cat(batch.state)\n",
    "    batch_actions = torch.cat(batch.action)\n",
    "    batch_next_states = torch.cat(batch.next_state)\n",
    "    batch_rewards = torch.cat(batch.reward)\n",
    "    batch_done = torch.cat(batch.done)\n",
    "\n",
    "    return batch_states, batch_actions, batch_next_states, batch_rewards, batch_done"
   ]
  },
  {
   "cell_type": "code",
   "execution_count": 5,
   "metadata": {},
   "outputs": [],
   "source": [
    "# Hyperparams\n",
    "BATCH_SIZE = 128\n",
    "MEMORY_SIZE = 10000\n",
    "GAMMA = 0.99\n",
    "EPS = 0.05\n",
    "TARGET_UPDATE = 10\n",
    "MA_WINDOW = 100\n",
    "\n",
    "# TODO: Use GPU\n",
    "device = torch.device(\"cuda\" if torch.cuda.is_available() else \"cpu\")\n",
    "\n",
    "env = Env2048()\n",
    "\n",
    "rewards_window = deque(maxlen=MA_WINDOW)\n",
    "memory = ReplayMemory(MEMORY_SIZE)\n",
    "loss_fn = nn.MSELoss() # f(inp, target)\n",
    "policy_net = DQN(env.height, env.width, env.action_space.n).to(device)\n",
    "target_net = DQN(env.height, env.width, env.action_space.n).to(device)\n",
    "target_net.load_state_dict(policy_net.state_dict())\n",
    "target_net.eval()\n",
    "optimizer = optim.Adam(params=policy_net.parameters()) # Maybe customize lr"
   ]
  },
  {
   "cell_type": "code",
   "execution_count": 6,
   "metadata": {},
   "outputs": [
    {
     "name": "stdout",
     "output_type": "stream",
     "text": [
      "Episode 299\n",
      "100 episode reward moving avg: -118.76000213623047\n",
      "Max tile 128\n",
      "[[  2   8   4   2]\n",
      " [  8 128   8   4]\n",
      " [ 32  16  64   8]\n",
      " [  2   4   8   4]]\n"
     ]
    },
    {
     "data": {
      "image/png": "[encoded data removed]",
      "text/plain": [
       "<Figure size 432x288 with 1 Axes>"
      ]
     },
     "metadata": {
      "needs_background": "light"
     },
     "output_type": "display_data"
    }
   ],
   "source": [
    "NUM_EPISODES = 300\n",
    "episode_rewards = torch.zeros(NUM_EPISODES)\n",
    "moving_avg_rewards = torch.zeros(NUM_EPISODES)\n",
    "max_tiles = torch.zeros(NUM_EPISODES)\n",
    "for episode in range(NUM_EPISODES):\n",
    "    env.reset()\n",
    "    done = False\n",
    "    curr_state = torch.Tensor(env.grid.copy()).unsqueeze(0)\n",
    "    \n",
    "    rng = np.random.default_rng(seed=None)\n",
    "    episode_reward = torch.tensor([0])\n",
    "    while not done:\n",
    "        \n",
    "#         # Random\n",
    "#         out = torch.rand((1, env.action_space.n))\n",
    "# #         out[:, env.get_invalid_moves()] = 0\n",
    "#         action = out.argmax(dim=1)\n",
    "#         next_state, reward, done, info = env.step(action.item())\n",
    "#         next_state = torch.Tensor(next_state).unsqueeze(0)\n",
    "#         episode_reward += reward\n",
    "#         reward = torch.tensor(reward).unsqueeze(0)\n",
    "#         memory.append(Experience(curr_state, action, next_state, reward, torch.tensor(done).unsqueeze(0)))\n",
    "#         curr_state = next_state\n",
    "        \n",
    "        \n",
    "        # DQN\n",
    "        # Select action and get next state\n",
    "        with torch.no_grad():\n",
    "            if EPS > rng.random():\n",
    "                out = torch.rand((1, env.action_space.n)) # explore\n",
    "            else:\n",
    "                out = policy_net(curr_state) # exploit\n",
    "            # Filter valid actions\n",
    "\n",
    "            # out[:, env.get_invalid_moves()] = 0\n",
    "        action = out.argmax(dim=1)\n",
    "        next_state, reward, done, info = env.step(action.item())\n",
    "        next_state = torch.Tensor(next_state).unsqueeze(0)\n",
    "        episode_reward += reward\n",
    "        reward = torch.tensor(reward).unsqueeze(0)\n",
    "        memory.append(Experience(curr_state, action, next_state, reward, torch.tensor(done).unsqueeze(0)))\n",
    "        curr_state = next_state\n",
    "        \n",
    "        # Start training once min samples reach\n",
    "        if len(memory) >= BATCH_SIZE:\n",
    "            experience_batch = memory.sample(BATCH_SIZE)\n",
    "            batch_states, batch_actions, batch_next_states, batch_rewards, batch_done = unpack_batch(experience_batch)\n",
    "            \n",
    "            current_Q = policy_net(batch_states).gather(dim=1, index=batch_actions.unsqueeze(-1))\n",
    "            next_Q, max_indexes = target_net(batch_next_states).max(dim=1)\n",
    "            # If lose game, all action-values are 0\n",
    "            next_Q[batch_done] = 0\n",
    "            target_Q = (next_Q * GAMMA) + batch_rewards\n",
    "\n",
    "            loss = loss_fn(current_Q, target_Q)\n",
    "            optimizer.zero_grad()\n",
    "            loss.backward()\n",
    "            optimizer.step()\n",
    "            \n",
    "    \n",
    "    # Track progress\n",
    "    max_tile = np.max(env.grid)\n",
    "    max_tiles[episode] = max_tile\n",
    "    episode_rewards[episode] = (episode_reward)\n",
    "    rewards_window.append(episode_reward)\n",
    "    moving_avg_rewards[episode] = np.mean(rewards_window)\n",
    "    # Plot rewards\n",
    "    clear_output(wait=True)\n",
    "#     plt.clf()\n",
    "#     plt.title('Training...')\n",
    "#     plt.xlabel('Episode')\n",
    "#     plt.ylabel('Rewards')\n",
    "#     plt.plot(episode_rewards)\n",
    "#     plt.plot(moving_avg_rewards)\n",
    "#     plt.pause(0.0001)\n",
    "    print(\"Episode\", episode)\n",
    "    print(len(rewards_window), \"episode reward moving avg:\", moving_avg_rewards[episode].item())\n",
    "    print(\"Max tile\", max_tile)\n",
    "    env.render()\n",
    "    \n",
    "    # Update target network every certain episodes\n",
    "    if episode % TARGET_UPDATE == 0:\n",
    "        target_net.load_state_dict(policy_net.state_dict())\n",
    "\n",
    "plt.clf()\n",
    "plt.title('Progress')\n",
    "plt.xlabel('Episode')\n",
    "plt.ylabel('Rewards')\n",
    "plt.plot(episode_rewards)\n",
    "plt.plot(moving_avg_rewards);\n",
    "\n",
    "# plt.plot(np.log2(max_tiles)[:100])\n",
    "# # or\n",
    "# plt.plot(max_tiles[-100:])\n",
    "# plt.yscale('log', base=2)\n",
    "# env.close()"
   ]
  },
  {
   "cell_type": "code",
   "execution_count": 7,
   "metadata": {},
   "outputs": [
    {
     "data": {
      "image/png": "[encoded data removed]",
      "text/plain": [
       "<Figure size 432x288 with 1 Axes>"
      ]
     },
     "metadata": {
      "needs_background": "light"
     },
     "output_type": "display_data"
    },
    {
     "name": "stdout",
     "output_type": "stream",
     "text": [
      "tensor(78.4000)\n",
      "tensor(71.6800)\n"
     ]
    }
   ],
   "source": [
    "plt.plot(max_tiles[-100:])\n",
    "plt.yscale('log', base=2)\n",
    "plt.show()\n",
    "print(max_tiles[:100].mean())\n",
    "print(max_tiles[-100:].mean())"
   ]
  },
  {
   "cell_type": "markdown",
   "metadata": {},
   "source": [
    "Reward\n",
    "1 for valid move;\n",
    "0 for end game;\n",
    "-1 for invalid move;\n",
    "\n",
    "Up to few hundred epoch - learns to die rather than make invalid move\n",
    "\n",
    "Probably have to train much more to learn valid moves"
   ]
  },
  {
   "cell_type": "code",
   "execution_count": null,
   "metadata": {},
   "outputs": [],
   "source": []
  },
  {
   "cell_type": "markdown",
   "metadata": {},
   "source": [
    "## Execute sample agent"
   ]
  },
  {
   "cell_type": "code",
   "execution_count": 8,
   "metadata": {},
   "outputs": [
    {
     "name": "stdout",
     "output_type": "stream",
     "text": [
      "DOWN\n",
      "[[  4  16   4   2]\n",
      " [  8  32   8   4]\n",
      " [ 32   8  16   8]\n",
      " [128  16   2  16]]\n",
      "Max tile: 128\n"
     ]
    }
   ],
   "source": [
    "env = Env2048()\n",
    "env.reset()\n",
    "env.render()\n",
    "done = False\n",
    "\n",
    "rng = np.random.default_rng(seed=None)\n",
    "while not done:\n",
    "    with torch.no_grad():\n",
    "        out = policy_net(curr_state) # exploit\n",
    "        # Filter valid actions, set to low q-value, take best valid move\n",
    "        out[:, env.get_invalid_moves()] = -1e6\n",
    "    \n",
    "        action = out.argmax(dim=1).item()\n",
    "    next_state, reward, done, info = env.step(action)\n",
    "    \n",
    "    clear_output(wait=True)\n",
    "    print(action_map[action])\n",
    "    env.render()\n",
    "    time.sleep(0.2)\n",
    "\n",
    "print(\"Max tile:\", np.max(env.grid))"
   ]
  },
  {
   "cell_type": "code",
   "execution_count": null,
   "metadata": {},
   "outputs": [],
   "source": []
  },
  {
   "cell_type": "code",
   "execution_count": null,
   "metadata": {},
   "outputs": [],
   "source": []
  }
 ],
 "metadata": {
  "kernelspec": {
   "display_name": "Python 3",
   "language": "python",
   "name": "python3"
  },
  "language_info": {
   "codemirror_mode": {
    "name": "ipython",
    "version": 3
   },
   "file_extension": ".py",
   "mimetype": "text/x-python",
   "name": "python",
   "nbconvert_exporter": "python",
   "pygments_lexer": "ipython3",
   "version": "3.8.3"
  }
 },
 "nbformat": 4,
 "nbformat_minor": 4
}
